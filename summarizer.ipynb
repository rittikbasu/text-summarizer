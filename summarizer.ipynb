{
  "nbformat": 4,
  "nbformat_minor": 0,
  "metadata": {
    "kernelspec": {
      "display_name": "Python 3",
      "language": "python",
      "name": "python3"
    },
    "language_info": {
      "codemirror_mode": {
        "name": "ipython",
        "version": 3
      },
      "file_extension": ".py",
      "mimetype": "text/x-python",
      "name": "python",
      "nbconvert_exporter": "python",
      "pygments_lexer": "ipython3",
      "version": "3.9.0"
    },
    "colab": {
      "name": "summarizer.ipynb",
      "provenance": []
    }
  },
  "cells": [
    {
      "cell_type": "code",
      "metadata": {
        "id": "Juj_2RtDmpFN"
      },
      "source": [
        "import bs4\n",
        "import urllib.request as url\n",
        "import re\n",
        "import nltk\n",
        "nltk.download('punkt')\n",
        "nltk.download('stopwords')\n",
        "from nltk import sent_tokenize\n",
        "from nltk.corpus import stopwords\n",
        "from nltk import word_tokenize\n",
        "stop_word = stopwords.words('english')\n",
        "import string\n",
        "import heapq"
      ],
      "execution_count": null,
      "outputs": []
    },
    {
      "cell_type": "code",
      "metadata": {
        "id": "c2YqecHqnFa-"
      },
      "source": [
        "url_name = input(\"Enter url of the text you want to summerize:\")\n",
        "web = url.urlopen(url_name)\n",
        "page = bs4.BeautifulSoup(web,'html.parser')\n",
        "elements = page.find_all('p')\n",
        "article = ''"
      ],
      "execution_count": null,
      "outputs": []
    },
    {
      "cell_type": "code",
      "metadata": {
        "id": "8pvFG4cSnrY4"
      },
      "source": [
        "for i in elements:\n",
        "    article+= (i.text)\n",
        "article\n",
        "processed = article.replace(r'^\\s+|\\s+?$','')\n",
        "processed = processed.replace('\\n',' ')\n",
        "\n",
        "processed = processed.replace(\"\\\\\",'')\n",
        "processed = processed.replace(\",\",'')\n",
        "processed = processed.replace('\"','')\n",
        "processed = re.sub(r'\\[[0-9]*\\]','',processed)\n",
        "processed\n",
        "\n",
        "\n",
        "sentences = sent_tokenize(processed)\n",
        "\n",
        "frequency = {}\n",
        "\n",
        "processed1 = processed.lower()"
      ],
      "execution_count": 4,
      "outputs": []
    },
    {
      "cell_type": "code",
      "metadata": {
        "id": "8cImz3gwnwRd"
      },
      "source": [
        "for word in word_tokenize(processed1):\n",
        "\n",
        "    if word not in stop_word and word not in string.punctuation:\n",
        "\n",
        "        if word not in frequency.keys():\n",
        "\n",
        "            frequency[word]=1\n",
        "\n",
        "        else:\n",
        "\n",
        "            frequency[word]+=1\n",
        "\n",
        "frequency\n",
        "\n",
        "max_fre = max(frequency.values())"
      ],
      "execution_count": 5,
      "outputs": []
    },
    {
      "cell_type": "code",
      "metadata": {
        "id": "crty1dqFn04J"
      },
      "source": [
        "for word in frequency.keys():\n",
        "\n",
        "    frequency[word]=(frequency[word]/max_fre)\n",
        "\n",
        "frequency\n",
        "sentence_score = {}"
      ],
      "execution_count": 6,
      "outputs": []
    },
    {
      "cell_type": "code",
      "metadata": {
        "id": "Imx2_3WMn4bR"
      },
      "source": [
        "for sent in sentences:\n",
        "\n",
        "    for word in word_tokenize(sent):\n",
        "\n",
        "     if word in frequency.keys():\n",
        "\n",
        "            if len(sent.split(' '))<30:\n",
        "\n",
        "                if sent not in sentence_score.keys():\n",
        "\n",
        "                    sentence_score[sent] = frequency[word]\n",
        "\n",
        "                else:\n",
        "                    sentence_score[sent]+=frequency[word]\n",
        "sentence_score"
      ],
      "execution_count": null,
      "outputs": []
    },
    {
      "cell_type": "code",
      "metadata": {
        "id": "XERVfaFvn6zc"
      },
      "source": [
        "summary = heapq.nlargest(6,sentence_score,key = sentence_score.get)\n",
        "\n",
        "summary = ' '.join(summary)\n",
        "\n",
        "summary"
      ],
      "execution_count": null,
      "outputs": []
    }
  ]
}